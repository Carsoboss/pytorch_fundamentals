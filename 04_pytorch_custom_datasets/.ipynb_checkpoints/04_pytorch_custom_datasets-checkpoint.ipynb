{
 "cells": [
  {
   "cell_type": "markdown",
   "id": "1c7bf2a9-60ce-4140-adb6-46b70fec8a79",
   "metadata": {},
   "source": [
    "# 04. Pytorch Custom Datasets Notebook"
   ]
  },
  {
   "cell_type": "code",
   "execution_count": 3,
   "id": "630157a3-de68-47fb-bc64-bf717fbb9202",
   "metadata": {},
   "outputs": [
    {
     "data": {
      "text/plain": [
       "'2.3.0+cu121'"
      ]
     },
     "execution_count": 3,
     "metadata": {},
     "output_type": "execute_result"
    }
   ],
   "source": [
    "import torch\n",
    "from torch import nn\n",
    "\n",
    "# Note: PyTorch 1.10.0 + is required for this cource\n",
    "torch.__version__"
   ]
  },
  {
   "cell_type": "code",
   "execution_count": 4,
   "id": "a95b2b04-ea9e-460c-846a-596191a51c0f",
   "metadata": {},
   "outputs": [
    {
     "data": {
      "text/plain": [
       "'cuda'"
      ]
     },
     "execution_count": 4,
     "metadata": {},
     "output_type": "execute_result"
    }
   ],
   "source": [
    "# Setup device-agnostic code\n",
    "device = \"cuda\" if torch.cuda.is_available() else \"cpu\"\n",
    "device"
   ]
  },
  {
   "cell_type": "markdown",
   "id": "56078913-e64a-4c64-a60b-3d10be8304b9",
   "metadata": {},
   "source": [
    "## 1. Get data\n",
    "\n",
    "Our dataset is a subset of the Food 101 dataset.\n",
    "\n",
    "Food101 starts 101 different classes of food.\n",
    "\n",
    "Our dataset starts with 3 classes of food and only 10% of the images (~75 training, ~25 testing).\n",
    "\n",
    "Why do this?\n",
    "\n",
    "When starting out ML projects, it's important to try things on a small scale and then increase the scale when necessary.\n",
    "\n",
    "The whole point is to speed up how fast you can experiment."
   ]
  },
  {
   "cell_type": "code",
   "execution_count": 5,
   "id": "e4e0d249-35c7-487d-8e79-f4ee8c58ea97",
   "metadata": {},
   "outputs": [
    {
     "name": "stdout",
     "output_type": "stream",
     "text": [
      "data/pizza_steak_sushi directory exists.\n"
     ]
    }
   ],
   "source": [
    "import requests\n",
    "import zipfile\n",
    "from pathlib import Path\n",
    "\n",
    "# Setup path to data folder\n",
    "data_path = Path(\"data/\")\n",
    "image_path = data_path / \"pizza_steak_sushi\"\n",
    "\n",
    "# If the image folder doesn't exist, download it and prepare it... \n",
    "if image_path.is_dir():\n",
    "    print(f\"{image_path} directory exists.\")\n",
    "else:\n",
    "    print(f\"Did not find {image_path} directory, creating one...\")\n",
    "    image_path.mkdir(parents=True, exist_ok=True)\n",
    "    \n",
    "    # Download pizza, steak, sushi data\n",
    "    with open(data_path / \"pizza_steak_sushi.zip\", \"wb\") as f:\n",
    "        request = requests.get(\"https://github.com/mrdbourke/pytorch-deep-learning/raw/main/data/pizza_steak_sushi.zip\")\n",
    "        print(\"Downloading pizza, steak, sushi data...\")\n",
    "        f.write(request.content)\n",
    "\n",
    "    # Unzip pizza, steak, sushi data\n",
    "    with zipfile.ZipFile(data_path / \"pizza_steak_sushi.zip\", \"r\") as zip_ref:\n",
    "        print(\"Unzipping pizza, steak, sushi data...\") \n",
    "        zip_ref.extractall(image_path)"
   ]
  },
  {
   "cell_type": "markdown",
   "id": "839aece9-fd83-435a-b165-15f4db1ea54e",
   "metadata": {},
   "source": [
    "## 2. Becoming one with the data (data preparation and data exploration"
   ]
  },
  {
   "cell_type": "code",
   "execution_count": 6,
   "id": "1129d34d-7573-4f77-b488-cc112905554c",
   "metadata": {},
   "outputs": [],
   "source": [
    "import os\n",
    "def walk_through_dir(dir_path):\n",
    "    \"\"\"Walks through dir_path returnign its contents.\"\"\"\n",
    "    for dirpath, dirnames, filenames in os.walk(dir_path):\n",
    "        print(f\"There are {len(dirnames)} directories and {len(filenames)} images in '{dirpath}'.\")"
   ]
  },
  {
   "cell_type": "code",
   "execution_count": 7,
   "id": "9f45556c-ab3d-4c3b-bfd7-3d7d13fb5f24",
   "metadata": {},
   "outputs": [
    {
     "name": "stdout",
     "output_type": "stream",
     "text": [
      "There are 2 directories and 0 images in 'data/pizza_steak_sushi'.\n",
      "There are 3 directories and 0 images in 'data/pizza_steak_sushi/test'.\n",
      "There are 0 directories and 25 images in 'data/pizza_steak_sushi/test/pizza'.\n",
      "There are 0 directories and 31 images in 'data/pizza_steak_sushi/test/sushi'.\n",
      "There are 0 directories and 19 images in 'data/pizza_steak_sushi/test/steak'.\n",
      "There are 3 directories and 0 images in 'data/pizza_steak_sushi/train'.\n",
      "There are 0 directories and 78 images in 'data/pizza_steak_sushi/train/pizza'.\n",
      "There are 0 directories and 72 images in 'data/pizza_steak_sushi/train/sushi'.\n",
      "There are 0 directories and 75 images in 'data/pizza_steak_sushi/train/steak'.\n"
     ]
    }
   ],
   "source": [
    "walk_through_dir(image_path)"
   ]
  },
  {
   "cell_type": "code",
   "execution_count": 8,
   "id": "ef439533-1c22-4a87-9371-7d49d24fa274",
   "metadata": {},
   "outputs": [
    {
     "data": {
      "text/plain": [
       "(PosixPath('data/pizza_steak_sushi/train'),\n",
       " PosixPath('data/pizza_steak_sushi/test'))"
      ]
     },
     "execution_count": 8,
     "metadata": {},
     "output_type": "execute_result"
    }
   ],
   "source": [
    "# Setup train and testing paths\n",
    "train_dir = image_path / \"train\"\n",
    "test_dir = image_path / \"test\"\n",
    "\n",
    "train_dir, test_dir"
   ]
  },
  {
   "cell_type": "markdown",
   "id": "1bbc77de-1462-42a0-896c-eafcc981eeca",
   "metadata": {},
   "source": [
    "### 2.1 Visualizing an image"
   ]
  },
  {
   "cell_type": "code",
   "execution_count": null,
   "id": "2b24e746-8f14-4cf0-b625-2789fa05e60e",
   "metadata": {},
   "outputs": [],
   "source": []
  },
  {
   "cell_type": "code",
   "execution_count": null,
   "id": "e8006819-b59b-4419-916c-6188d17715ab",
   "metadata": {},
   "outputs": [],
   "source": []
  },
  {
   "cell_type": "code",
   "execution_count": null,
   "id": "5532629e-2cc5-4b10-9a97-8cadfb2f817d",
   "metadata": {},
   "outputs": [],
   "source": []
  },
  {
   "cell_type": "code",
   "execution_count": null,
   "id": "40eb931a-96fb-4b74-8d8d-c8caf892ba59",
   "metadata": {},
   "outputs": [],
   "source": []
  },
  {
   "cell_type": "code",
   "execution_count": null,
   "id": "3820ca44-0b3a-4194-97f4-9821c7b5d4fc",
   "metadata": {},
   "outputs": [],
   "source": []
  }
 ],
 "metadata": {
  "kernelspec": {
   "display_name": "Python 3 (ipykernel)",
   "language": "python",
   "name": "python3"
  },
  "language_info": {
   "codemirror_mode": {
    "name": "ipython",
    "version": 3
   },
   "file_extension": ".py",
   "mimetype": "text/x-python",
   "name": "python",
   "nbconvert_exporter": "python",
   "pygments_lexer": "ipython3",
   "version": "3.12.3"
  }
 },
 "nbformat": 4,
 "nbformat_minor": 5
}
