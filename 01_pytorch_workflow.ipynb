{
  "nbformat": 4,
  "nbformat_minor": 0,
  "metadata": {
    "colab": {
      "provenance": [],
      "gpuType": "T4",
      "authorship_tag": "ABX9TyOMsMXhUyRPwiVMWNzocoO9",
      "include_colab_link": true
    },
    "kernelspec": {
      "name": "python3",
      "display_name": "Python 3"
    },
    "language_info": {
      "name": "python"
    },
    "accelerator": "GPU"
  },
  "cells": [
    {
      "cell_type": "markdown",
      "metadata": {
        "id": "view-in-github",
        "colab_type": "text"
      },
      "source": [
        "<a href=\"https://colab.research.google.com/github/Carsoboss/pytorch_fundamentals/blob/main/01_pytorch_workflow.ipynb\" target=\"_parent\"><img src=\"https://colab.research.google.com/assets/colab-badge.svg\" alt=\"Open In Colab\"/></a>"
      ]
    },
    {
      "cell_type": "markdown",
      "source": [
        "## PyTorch Workflow\n",
        "\n",
        "Let's explore an example PyTorch end-to-end workflow.\n",
        "\n",
        "Resources:\n",
        "* Ground truth notebook - https://github.com/mrdbourke/pytorch-deep-learning/blob/main/01_pytorch_workflow.ipynb\n",
        "* Book version of notebook - https://www.learnpytorch.io/01_pytorch_workflow/\n",
        "* Ask a qeustion - https://github.com/mrdbourke/pytorch-deep-learning/discussions"
      ],
      "metadata": {
        "id": "J_zUwWge4L22"
      }
    },
    {
      "cell_type": "code",
      "source": [
        "what_were_covrering = {1: \"data {prepare and load}\",\n",
        "                       2: \" build model\",\n",
        "                       3: \"fitting the model to data (training)\",\n",
        "                       4: \"making predictions and evaluating a model (inference)\",\n",
        "                       5: \"saving and loading a model\",\n",
        "                       6: \"putting it all together\"}\n",
        "\n",
        "what_were_covrering"
      ],
      "metadata": {
        "colab": {
          "base_uri": "https://localhost:8080/"
        },
        "id": "5KvgHXrt6lJC",
        "outputId": "2686534b-b79b-425a-c415-8165822ec64d"
      },
      "execution_count": 1,
      "outputs": [
        {
          "output_type": "execute_result",
          "data": {
            "text/plain": [
              "{1: 'data {prepare and load}',\n",
              " 2: ' build model',\n",
              " 3: 'fitting the model to data (training)',\n",
              " 4: 'making predictions and evaluating a model (inference)',\n",
              " 5: 'saving and loading a model',\n",
              " 6: 'putting it all together'}"
            ]
          },
          "metadata": {},
          "execution_count": 1
        }
      ]
    },
    {
      "cell_type": "code",
      "source": [
        "import torch\n",
        "from torch import nn #nn contains all of PyTorch's building blocks for neural networks\n",
        "import matplotlib.pyplot as plt\n",
        "\n",
        "# Check PyTorch version\n",
        "torch.__version__"
      ],
      "metadata": {
        "colab": {
          "base_uri": "https://localhost:8080/",
          "height": 35
        },
        "id": "vAjeB85s6lDa",
        "outputId": "1406a38c-5e3e-409e-9566-99c794c7c087"
      },
      "execution_count": 2,
      "outputs": [
        {
          "output_type": "execute_result",
          "data": {
            "text/plain": [
              "'2.1.0+cu121'"
            ],
            "application/vnd.google.colaboratory.intrinsic+json": {
              "type": "string"
            }
          },
          "metadata": {},
          "execution_count": 2
        }
      ]
    },
    {
      "cell_type": "markdown",
      "source": [
        "## 1.  Data(preparing and loading)\n",
        "\n",
        "Data can be almost anything... in machine learning.\n",
        "\n",
        "* Excel spreadsheet\n",
        "* Images of any kind\n",
        "* Videos (YouTube has lots of data...)\n",
        "* DNA\n",
        "* Text\n",
        "\n",
        "Machine learning is a game of two parts:\n",
        "1.  Get data into a numerical representation.\n",
        "2.  Build a model to learn patterns in that numerical representation.  \n",
        "\n",
        "To showcase this, let's create some *known* data using the lilnear regression formula.\n",
        "\n",
        "We'll use a linear regression formula to make a straight line with *known* **parameters**.\n",
        "\n",
        "\n",
        "\n"
      ],
      "metadata": {
        "id": "jySweY2z6lAg"
      }
    },
    {
      "cell_type": "code",
      "source": [
        "# Create *know* parameters\n",
        "weight = 0.7\n",
        "bias = 0.3\n",
        "\n",
        "# Create\n",
        "start = 0\n",
        "end = 1\n",
        "step = 0.02\n",
        "X = torch.arange(start, end, step).unsqueeze(dim=1)\n",
        "y= weight * X +bias\n",
        "\n",
        "X[:10], y[:10]"
      ],
      "metadata": {
        "colab": {
          "base_uri": "https://localhost:8080/"
        },
        "id": "AlLz2obW-F1E",
        "outputId": "a5f9ccaa-a787-4e5d-c0d4-c14706cfbddf"
      },
      "execution_count": 3,
      "outputs": [
        {
          "output_type": "execute_result",
          "data": {
            "text/plain": [
              "(tensor([[0.0000],\n",
              "         [0.0200],\n",
              "         [0.0400],\n",
              "         [0.0600],\n",
              "         [0.0800],\n",
              "         [0.1000],\n",
              "         [0.1200],\n",
              "         [0.1400],\n",
              "         [0.1600],\n",
              "         [0.1800]]),\n",
              " tensor([[0.3000],\n",
              "         [0.3140],\n",
              "         [0.3280],\n",
              "         [0.3420],\n",
              "         [0.3560],\n",
              "         [0.3700],\n",
              "         [0.3840],\n",
              "         [0.3980],\n",
              "         [0.4120],\n",
              "         [0.4260]]))"
            ]
          },
          "metadata": {},
          "execution_count": 3
        }
      ]
    },
    {
      "cell_type": "code",
      "source": [
        "len(X), len(y)"
      ],
      "metadata": {
        "colab": {
          "base_uri": "https://localhost:8080/"
        },
        "id": "WA4b-pN_-Fxl",
        "outputId": "64342b4a-1838-4051-a268-7c4d71e5570d"
      },
      "execution_count": 4,
      "outputs": [
        {
          "output_type": "execute_result",
          "data": {
            "text/plain": [
              "(50, 50)"
            ]
          },
          "metadata": {},
          "execution_count": 4
        }
      ]
    },
    {
      "cell_type": "markdown",
      "source": [
        "### Splitting data into training and test sets (one of the msot important concepts in machine learning in general)\n",
        "\n",
        "Let's create a training and test set with our data."
      ],
      "metadata": {
        "id": "mWWNUhv0-FuD"
      }
    },
    {
      "cell_type": "code",
      "source": [
        "# Create a train/test split\n",
        "train_split = int(0.8 * len(X))\n",
        "X_train, y_train = X[:train_split], y[:train_split]\n",
        "X_test, y_test = X[train_split:], y[train_split:]\n",
        "\n",
        "len(X_train), len(y_train), len(X_test), len(y_test)"
      ],
      "metadata": {
        "colab": {
          "base_uri": "https://localhost:8080/"
        },
        "id": "LHKX38Ir-Fq6",
        "outputId": "8a303b0d-e61e-4562-e3f8-aef6871ca439"
      },
      "execution_count": 5,
      "outputs": [
        {
          "output_type": "execute_result",
          "data": {
            "text/plain": [
              "(40, 40, 10, 10)"
            ]
          },
          "metadata": {},
          "execution_count": 5
        }
      ]
    },
    {
      "cell_type": "markdown",
      "source": [
        "How might we better visualize our data?\n",
        "\n",
        "This is where the data explore's motto comes in!\n",
        "\n",
        "\"Visualize, visualize visualize!\""
      ],
      "metadata": {
        "id": "LAIMC2H0CfDF"
      }
    },
    {
      "cell_type": "code",
      "source": [
        "import matplotlib.pyplot as plt\n",
        "\n",
        "def plot_predictions(train_data=X_train,\n",
        "                     train_labels=y_train,\n",
        "                     test_data=X_test,\n",
        "                     test_labels=y_test,\n",
        "                     predictions=None):\n",
        "  \"\"\"\n",
        "  Plots training data, test data and compares predictions.\n",
        "  \"\"\"\n",
        "  plt.figure(figsize=(10, 7))\n",
        "\n",
        "  # Plot training data in blue\n",
        "  plt.scatter(train_data, train_labels, c=\"b\", s=4, label=\"Training data\")\n",
        "\n",
        "  # Plot test data in green\n",
        "  plt.scatter(test_data, test_labels, c=\"g\", s=4, label=\"Testing data\")\n",
        "\n",
        "  if predictions is not None:\n",
        "    # Plot the predictions in red (predictions were made on the test data)\n",
        "    plt.scatter(test_data, predictions, c=\"r\", s=4, label=\"Predictions\")\n",
        "\n",
        "  # Show the legend\n",
        "  plt.legend(prop={\"size\": 14});"
      ],
      "metadata": {
        "id": "RncjLUZZ-FoE"
      },
      "execution_count": 6,
      "outputs": []
    },
    {
      "cell_type": "code",
      "source": [
        "plot_predictions();"
      ],
      "metadata": {
        "colab": {
          "base_uri": "https://localhost:8080/",
          "height": 538
        },
        "id": "dUKN0Km9-Fk0",
        "outputId": "971d78b8-d1f9-4487-f647-7f547d846c92"
      },
      "execution_count": 7,
      "outputs": [
        {
          "output_type": "display_data",
          "data": {
            "text/plain": [
              "<Figure size 1000x700 with 1 Axes>"
            ],
            "image/png": "[encoded data removed]"
          },
          "metadata": {}
        }
      ]
    },
    {
      "cell_type": "markdown",
      "source": [
        "## 2.  Build model\n",
        "\n",
        "Our first PyTorch model!\n",
        "\n",
        "This is very exciting... let's do it\n",
        "\n",
        "What our model does:\n",
        "* Start with random values (weight & bias)\n",
        "*Look at training data and adjust the random values (or get closer to) the idea values (the weight & bias values we used to create the data)\n",
        "\n",
        "How does it do so?\n",
        "\n",
        "Through two main algorithns:\n",
        "1. Gradient descent\n",
        "2. Backpropagation\n",
        "\n"
      ],
      "metadata": {
        "id": "hnU22uSJWq1y"
      }
    },
    {
      "cell_type": "code",
      "source": [
        "from torch import nn\n",
        "# Create linear regression model class\n",
        "class LinearRegressionModel(nn.Module): # <- almost everything in PyTorch inherits from nn.Module\n",
        "  def __init__(self):\n",
        "    super().__init__()\n",
        "    self.weights = nn.Parameter(torch.randn(1,\n",
        "                                            requires_grad=True,\n",
        "                                            dtype=torch.float32))\n",
        "\n",
        "    self.bias = nn.Parameter(torch.randn(1,\n",
        "                                         requires_grad=True,\n",
        "                                         dtype=torch.float32))\n",
        "\n",
        "  # Forward method to define the computation in the model\n",
        "  def forward(self, x: torch.Tensor) -> torch.Tensor: # <- \"x\" is the input data\n",
        "    return self.weights * x + self.bias # this is the linear regression formula\n",
        "\n"
      ],
      "metadata": {
        "id": "9qW1QNI_Wqvk"
      },
      "execution_count": 8,
      "outputs": []
    },
    {
      "cell_type": "markdown",
      "source": [
        "### PyTorch model building essentials\n",
        "\n",
        "* torch.nn - contains all of the building blocks for computation graphs (a neural network can be considered a computational graph)\n",
        "* torch.nn.Parameter -what parameters shoudl our model try and learn, often a PyTorch layer from torch.nn will set these for us\n",
        "* torch.nn.Module - The base class for all neural network modules, if you subclass it, you should overwrite forward()\n",
        "* torch.optim - this is hwere the optimizers in PyTorch live, they will help with gradient descent\n",
        "* def forward() - All nn.Module subclasses require you to overwrite forward(), this method defines what happens in the forward computation"
      ],
      "metadata": {
        "id": "flB6HFpYWqsa"
      }
    },
    {
      "cell_type": "markdown",
      "source": [
        "### Checking the contents of our PyTorch model\n",
        "\n",
        "Now we've created a mode, let's see what's inside ...\n",
        "\n",
        "So we can check our model parameters or what's inside our model using '.parameters()'"
      ],
      "metadata": {
        "id": "CoOVD4BwWqpV"
      }
    },
    {
      "cell_type": "code",
      "source": [
        "torch.randn(1)"
      ],
      "metadata": {
        "colab": {
          "base_uri": "https://localhost:8080/"
        },
        "id": "hN-_NIIQBJuT",
        "outputId": "39bef8e9-aa58-4836-fbf4-0ceab4374571"
      },
      "execution_count": 9,
      "outputs": [
        {
          "output_type": "execute_result",
          "data": {
            "text/plain": [
              "tensor([1.7545])"
            ]
          },
          "metadata": {},
          "execution_count": 9
        }
      ]
    },
    {
      "cell_type": "code",
      "source": [
        "# Create a random seed\n",
        "torch.manual_seed(42)\n",
        "\n",
        "# Create an instance of the model (this is a subclass of nn.Module)\n",
        "model_0 = LinearRegressionModel()\n",
        "# Check out the parameters\n",
        "list(model_0.parameters())"
      ],
      "metadata": {
        "colab": {
          "base_uri": "https://localhost:8080/"
        },
        "id": "0IrmXY7j7D8S",
        "outputId": "8e110158-ba3a-46e7-eec9-e205db9c7784"
      },
      "execution_count": 10,
      "outputs": [
        {
          "output_type": "execute_result",
          "data": {
            "text/plain": [
              "[Parameter containing:\n",
              " tensor([0.3367], requires_grad=True),\n",
              " Parameter containing:\n",
              " tensor([0.1288], requires_grad=True)]"
            ]
          },
          "metadata": {},
          "execution_count": 10
        }
      ]
    },
    {
      "cell_type": "code",
      "source": [
        "# List named parameters\n",
        "model_0.state_dict()"
      ],
      "metadata": {
        "colab": {
          "base_uri": "https://localhost:8080/"
        },
        "id": "GHvpcQf-7D5V",
        "outputId": "cc6b46cf-90cf-47ad-d0da-01a8402d8696"
      },
      "execution_count": 11,
      "outputs": [
        {
          "output_type": "execute_result",
          "data": {
            "text/plain": [
              "OrderedDict([('weights', tensor([0.3367])), ('bias', tensor([0.1288]))])"
            ]
          },
          "metadata": {},
          "execution_count": 11
        }
      ]
    },
    {
      "cell_type": "code",
      "source": [
        "weight, bias"
      ],
      "metadata": {
        "colab": {
          "base_uri": "https://localhost:8080/"
        },
        "id": "J3z5_6h_7D2T",
        "outputId": "9e55b8b8-cc14-4f02-cc7a-8bbd9b527554"
      },
      "execution_count": 12,
      "outputs": [
        {
          "output_type": "execute_result",
          "data": {
            "text/plain": [
              "(0.7, 0.3)"
            ]
          },
          "metadata": {},
          "execution_count": 12
        }
      ]
    },
    {
      "cell_type": "markdown",
      "source": [
        "### Making prediciton using 'torch.inference_mode()\n",
        "\n",
        "To check our model's predictive power, let's see how well it predicts 'y_test' based on 'X_test'.\n",
        "\n",
        "When we pass data through our mode, it's going to run it through the forward() method"
      ],
      "metadata": {
        "id": "l6oHvlVD7Dyy"
      }
    },
    {
      "cell_type": "code",
      "source": [
        "X_test, y_test"
      ],
      "metadata": {
        "colab": {
          "base_uri": "https://localhost:8080/"
        },
        "id": "Ai9rstEpEAOF",
        "outputId": "7056f394-34a2-4b43-ca0f-85d96088f0a2"
      },
      "execution_count": 13,
      "outputs": [
        {
          "output_type": "execute_result",
          "data": {
            "text/plain": [
              "(tensor([[0.8000],\n",
              "         [0.8200],\n",
              "         [0.8400],\n",
              "         [0.8600],\n",
              "         [0.8800],\n",
              "         [0.9000],\n",
              "         [0.9200],\n",
              "         [0.9400],\n",
              "         [0.9600],\n",
              "         [0.9800]]),\n",
              " tensor([[0.8600],\n",
              "         [0.8740],\n",
              "         [0.8880],\n",
              "         [0.9020],\n",
              "         [0.9160],\n",
              "         [0.9300],\n",
              "         [0.9440],\n",
              "         [0.9580],\n",
              "         [0.9720],\n",
              "         [0.9860]]))"
            ]
          },
          "metadata": {},
          "execution_count": 13
        }
      ]
    },
    {
      "cell_type": "code",
      "source": [
        "# Make predictions with model\n",
        "with torch.inference_mode():\n",
        "  y_preds = model_0(X_test)\n",
        "\n",
        "y_preds"
      ],
      "metadata": {
        "colab": {
          "base_uri": "https://localhost:8080/"
        },
        "id": "SliXpyhp7Dvy",
        "outputId": "a141a6b4-7824-443c-d1c0-afaf90b21d38"
      },
      "execution_count": 14,
      "outputs": [
        {
          "output_type": "execute_result",
          "data": {
            "text/plain": [
              "tensor([[0.3982],\n",
              "        [0.4049],\n",
              "        [0.4116],\n",
              "        [0.4184],\n",
              "        [0.4251],\n",
              "        [0.4318],\n",
              "        [0.4386],\n",
              "        [0.4453],\n",
              "        [0.4520],\n",
              "        [0.4588]])"
            ]
          },
          "metadata": {},
          "execution_count": 14
        }
      ]
    },
    {
      "cell_type": "code",
      "source": [
        "plot_predictions(predictions=y_preds)"
      ],
      "metadata": {
        "colab": {
          "base_uri": "https://localhost:8080/",
          "height": 538
        },
        "id": "Z5Svc8iA7Dsa",
        "outputId": "3a10263c-a4a5-4ede-913e-21b3dbe3eb2a"
      },
      "execution_count": 15,
      "outputs": [
        {
          "output_type": "display_data",
          "data": {
            "text/plain": [
              "<Figure size 1000x700 with 1 Axes>"
            ],
            "image/png": "[encoded data removed]"
          },
          "metadata": {}
        }
      ]
    },
    {
      "cell_type": "markdown",
      "source": [
        "## 3. Train model\n",
        "\n",
        "The whole idea of traing is for a model to move from some *unknown* parameters (these may ne random) to some *known* parameters\n",
        "\n",
        "Or in other words from a poor representation of the data to a better representation of the data.\n",
        "\n",
        "One way to measure how poor or how wrong your model's predictions are is to use a loss funciton.\n",
        "\n",
        "* Note: loss function may also be called cost function or criterion in differenc areas.  For our case, we're going to refer to it as a loss function.\n",
        "\n",
        "Things we need to train:\n",
        "\n",
        "* **Loss funciton:** A function to measure how wrong your model's predictions are to the ideal outputs, lower is better.  \n",
        "\n",
        "* **Optimizer:** takes into account the loss of a model and adjusts the model's parameters (e.g. weight & bias to improve the loss funciton.)\n",
        "\n",
        "And specifically for PyTorch, we need:\n",
        " * a training loop\n",
        " * a test loop"
      ],
      "metadata": {
        "id": "M4Fy438G7Dow"
      }
    },
    {
      "cell_type": "code",
      "source": [
        "list(model_0.parameters())"
      ],
      "metadata": {
        "colab": {
          "base_uri": "https://localhost:8080/"
        },
        "id": "NmplNTbP7Diy",
        "outputId": "e338f5b6-6062-4ae6-9a66-18c0d0fbe969"
      },
      "execution_count": 16,
      "outputs": [
        {
          "output_type": "execute_result",
          "data": {
            "text/plain": [
              "[Parameter containing:\n",
              " tensor([0.3367], requires_grad=True),\n",
              " Parameter containing:\n",
              " tensor([0.1288], requires_grad=True)]"
            ]
          },
          "metadata": {},
          "execution_count": 16
        }
      ]
    },
    {
      "cell_type": "code",
      "source": [
        "# Check out our model's parameters (a parameter is a value that the model sets itself)\n",
        "model_0.state_dict()"
      ],
      "metadata": {
        "colab": {
          "base_uri": "https://localhost:8080/"
        },
        "id": "Xwu_dXpC7Df7",
        "outputId": "3edc67d5-c39c-4b71-f9ab-b46294df9403"
      },
      "execution_count": 17,
      "outputs": [
        {
          "output_type": "execute_result",
          "data": {
            "text/plain": [
              "OrderedDict([('weights', tensor([0.3367])), ('bias', tensor([0.1288]))])"
            ]
          },
          "metadata": {},
          "execution_count": 17
        }
      ]
    },
    {
      "cell_type": "code",
      "source": [
        "# Setup a loss function\n",
        "loss_fn = nn.L1Loss()\n",
        "\n",
        "# Setup an optimizer (stochastic gradient descent)\n",
        "optimizer = torch.optim.SGD(params=model_0.parameters(),\n",
        "                            lr=0.001) #lr = learning rate = possibly the most important hyperparameter you can set"
      ],
      "metadata": {
        "id": "H2CTmTZV7DaK"
      },
      "execution_count": 18,
      "outputs": []
    },
    {
      "cell_type": "markdown",
      "source": [
        "### Which loss function should I choose\n",
        "\n",
        "Well it depends.  With experience you will start to understand which ones will match the problem you are trying to tackle.  "
      ],
      "metadata": {
        "id": "cVKaQPbJ7DXV"
      }
    },
    {
      "cell_type": "markdown",
      "source": [
        "### Building a training loop (and a testing loop) in PyTorch\n",
        "\n",
        "A couple of things we need in a training loop:\n",
        "0.  Loop through the data\n",
        "1.  Forward pass (this involves data moving through our model's 'forward()' funcitons) to make predicitons on data - also called forward propagation\n",
        "2.  Calculate the loss (compate forward pass predictions to ground truth labels)\n",
        "3.  Optimizer zero grad\n",
        "4.  Loss backward - move backwards through the network to calculate the gradients of each of the parameters of our model with respect to the loss (**backpropagation**)\n",
        "5.  Optimizer step - use the optimizer to adjust our model's parameters to try and improve the loss. (**gradient descent**)"
      ],
      "metadata": {
        "id": "4Gu3y98I7DR_"
      }
    },
    {
      "cell_type": "code",
      "source": [
        "# An epoch is one loop through the data... (this is a hyperparameter because we've set it ourselves)\n",
        "epochs = 1000\n",
        "\n",
        "epoch_count = []\n",
        "loss_values = []\n",
        "test_loss_values = []\n",
        "\n",
        "### Training\n",
        "\n",
        "# 0.  Loop through the data\n",
        "for epoch in range(epochs):\n",
        "  # Set the model to training mode\n",
        "  model_0.train() # train model in PyTorch sets all parameters that require gradients to require gradients\n",
        "\n",
        "  # 1. Forward pass\n",
        "  y_pred = model_0(X_train)\n",
        "\n",
        "  # 2. Calculate the loss\n",
        "  loss = loss_fn(y_pred, y_train) #input then output\n",
        "  print(f\"Loss: {loss}\")\n",
        "  # 3. Optimizer zero grad\n",
        "  optimizer.zero_grad()\n",
        "\n",
        "  # 4. Perform backpropagation on the loss with respect to the parameters of the model\n",
        "  loss.backward()\n",
        "\n",
        "  # 5. Step the optimizer (perform gradient descent)\n",
        "  optimizer.step() # by default how the optimizer changes will accululate through the loop so ... we have to zero them above in step 3 for the next iteration of the loop\n",
        "\n",
        "  ### Testing\n",
        "  model_0.eval() # turns off different setting in the model not needed for evaluation/testing (dropout/batch norm layers)\n",
        "  with torch.inference_mode(): # turns off gradient tracking & a couple more things behind the scenes\n",
        "    # 1. Do the forward pass\n",
        "    test_pred = model_0(X_test)\n",
        "\n",
        "    # 2. Calculate the loss\n",
        "    test_loss = loss_fn(test_pred, y_test)\n",
        "\n",
        "  # Print out what's happenin'\n",
        "  if epoch % 100 == 0:\n",
        "    epoch_count.append(epoch)\n",
        "    loss_values.append(loss)\n",
        "    test_loss_values.append(test_loss)\n",
        "    print(f\"Epoch: {epoch} | Loss: {loss} | Test loss: {test_loss}\")\n",
        "\n",
        "    # Print out model state_dict()\n",
        "    print(model_0.state_dict())\n"
      ],
      "metadata": {
        "id": "yxkmN2-97DO4",
        "colab": {
          "base_uri": "https://localhost:8080/"
        },
        "outputId": "eda5976a-5a0c-4ea2-dbcd-f9e18983bb05"
      },
      "execution_count": 19,
      "outputs": [
        {
          "output_type": "stream",
          "name": "stdout",
          "text": [
            "Loss: 0.31288138031959534\n",
            "Epoch: 0 | Loss: 0.31288138031959534 | Test loss: 0.4931890368461609\n",
            "OrderedDict([('weights', tensor([0.3371])), ('bias', tensor([0.1298]))])\n",
            "Loss: 0.3117292523384094\n",
            "Loss: 0.3105771541595459\n",
            "Loss: 0.3094250559806824\n",
            "Loss: 0.30827295780181885\n",
            "Loss: 0.3071208596229553\n",
            "Loss: 0.3059687614440918\n",
            "Loss: 0.3048166334629059\n",
            "Loss: 0.30366456508636475\n",
            "Loss: 0.3025124669075012\n",
            "Loss: 0.3013603389263153\n",
            "Loss: 0.30020827054977417\n",
            "Loss: 0.29905614256858826\n",
            "Loss: 0.2979040741920471\n",
            "Loss: 0.2967519462108612\n",
            "Loss: 0.29559987783432007\n",
            "Loss: 0.29444774985313416\n",
            "Loss: 0.293295681476593\n",
            "Loss: 0.2921435832977295\n",
            "Loss: 0.2909914553165436\n",
            "Loss: 0.28983938694000244\n",
            "Loss: 0.28868725895881653\n",
            "Loss: 0.287535160779953\n",
            "Loss: 0.2863830626010895\n",
            "Loss: 0.28523099422454834\n",
            "Loss: 0.2840788662433624\n",
            "Loss: 0.2829267382621765\n",
            "Loss: 0.281774640083313\n",
            "Loss: 0.28062254190444946\n",
            "Loss: 0.2794705033302307\n",
            "Loss: 0.2783183455467224\n",
            "Loss: 0.2771662771701813\n",
            "Loss: 0.27601414918899536\n",
            "Loss: 0.2748620808124542\n",
            "Loss: 0.2737099528312683\n",
            "Loss: 0.2725578844547272\n",
            "Loss: 0.27140578627586365\n",
            "Loss: 0.2702536880970001\n",
            "Loss: 0.2691015899181366\n",
            "Loss: 0.26794949173927307\n",
            "Loss: 0.26679736375808716\n",
            "Loss: 0.265645295381546\n",
            "Loss: 0.2644931674003601\n",
            "Loss: 0.2633410692214966\n",
            "Loss: 0.26218897104263306\n",
            "Loss: 0.26103687286376953\n",
            "Loss: 0.259884774684906\n",
            "Loss: 0.2587326467037201\n",
            "Loss: 0.25758057832717896\n",
            "Loss: 0.2564285099506378\n",
            "Loss: 0.2552763819694519\n",
            "Loss: 0.2541242837905884\n",
            "Loss: 0.25297218561172485\n",
            "Loss: 0.2518201172351837\n",
            "Loss: 0.2506679892539978\n",
            "Loss: 0.24951589107513428\n",
            "Loss: 0.24836377799510956\n",
            "Loss: 0.24721169471740723\n",
            "Loss: 0.2460596114397049\n",
            "Loss: 0.2449074685573578\n",
            "Loss: 0.24375538527965546\n",
            "Loss: 0.24260330200195312\n",
            "Loss: 0.2414511889219284\n",
            "Loss: 0.2402990758419037\n",
            "Loss: 0.23914699256420135\n",
            "Loss: 0.23799486458301544\n",
            "Loss: 0.2368427962064743\n",
            "Loss: 0.23569071292877197\n",
            "Loss: 0.23453858494758606\n",
            "Loss: 0.23338651657104492\n",
            "Loss: 0.232234388589859\n",
            "Loss: 0.23108229041099548\n",
            "Loss: 0.22993019223213196\n",
            "Loss: 0.22877809405326843\n",
            "Loss: 0.2276259958744049\n",
            "Loss: 0.22647389769554138\n",
            "Loss: 0.22532181441783905\n",
            "Loss: 0.22416970133781433\n",
            "Loss: 0.223017618060112\n",
            "Loss: 0.2218654900789261\n",
            "Loss: 0.22071340680122375\n",
            "Loss: 0.21956129372119904\n",
            "Loss: 0.2184092104434967\n",
            "Loss: 0.21725709736347198\n",
            "Loss: 0.21610502898693085\n",
            "Loss: 0.21495290100574493\n",
            "Loss: 0.2138008177280426\n",
            "Loss: 0.21264871954917908\n",
            "Loss: 0.21149662137031555\n",
            "Loss: 0.21034450829029083\n",
            "Loss: 0.2091923952102661\n",
            "Loss: 0.20804031193256378\n",
            "Loss: 0.20688819885253906\n",
            "Loss: 0.20573611557483673\n",
            "Loss: 0.2045840322971344\n",
            "Loss: 0.20343191921710968\n",
            "Loss: 0.20227983593940735\n",
            "Loss: 0.20112769305706024\n",
            "Loss: 0.1999756097793579\n",
            "Loss: 0.1988234966993332\n",
            "Loss: 0.19767141342163086\n",
            "Epoch: 100 | Loss: 0.19767141342163086 | Test loss: 0.35847947001457214\n",
            "OrderedDict([('weights', tensor([0.3761])), ('bias', tensor([0.2298]))])\n",
            "Loss: 0.19651933014392853\n",
            "Loss: 0.19536720216274261\n",
            "Loss: 0.19421511888504028\n",
            "Loss: 0.19306302070617676\n",
            "Loss: 0.19191092252731323\n",
            "Loss: 0.19075879454612732\n",
            "Loss: 0.189606711268425\n",
            "Loss: 0.18845462799072266\n",
            "Loss: 0.18730251491069794\n",
            "Loss: 0.18615040183067322\n",
            "Loss: 0.18499833345413208\n",
            "Loss: 0.18384622037410736\n",
            "Loss: 0.18269412219524384\n",
            "Loss: 0.1815420240163803\n",
            "Loss: 0.18038992583751678\n",
            "Loss: 0.17923781275749207\n",
            "Loss: 0.17808572947978973\n",
            "Loss: 0.17693361639976501\n",
            "Loss: 0.1757815182209015\n",
            "Loss: 0.17462942004203796\n",
            "Loss: 0.17347732186317444\n",
            "Loss: 0.1723252385854721\n",
            "Loss: 0.17117314040660858\n",
            "Loss: 0.17002105712890625\n",
            "Loss: 0.1688689887523651\n",
            "Loss: 0.16771690547466278\n",
            "Loss: 0.16656479239463806\n",
            "Loss: 0.16541273891925812\n",
            "Loss: 0.1642606407403946\n",
            "Loss: 0.16310855746269226\n",
            "Loss: 0.16195647418498993\n",
            "Loss: 0.1608043909072876\n",
            "Loss: 0.15965232253074646\n",
            "Loss: 0.15850022435188293\n",
            "Loss: 0.1573481261730194\n",
            "Loss: 0.15619607269763947\n",
            "Loss: 0.15504398941993713\n",
            "Loss: 0.1538918912410736\n",
            "Loss: 0.15273980796337128\n",
            "Loss: 0.15158770978450775\n",
            "Loss: 0.1504356414079666\n",
            "Loss: 0.14928355813026428\n",
            "Loss: 0.14813147485256195\n",
            "Loss: 0.14697939157485962\n",
            "Loss: 0.1458273082971573\n",
            "Loss: 0.14467521011829376\n",
            "Loss: 0.14352312684059143\n",
            "Loss: 0.1423710286617279\n",
            "Loss: 0.14121896028518677\n",
            "Loss: 0.14006686210632324\n",
            "Loss: 0.1389147937297821\n",
            "Loss: 0.13776269555091858\n",
            "Loss: 0.13661061227321625\n",
            "Loss: 0.1354585438966751\n",
            "Loss: 0.13430646061897278\n",
            "Loss: 0.13315437734127045\n",
            "Loss: 0.13200227916240692\n",
            "Loss: 0.13085021078586578\n",
            "Loss: 0.12969812750816345\n",
            "Loss: 0.12854602932929993\n",
            "Loss: 0.1273939311504364\n",
            "Loss: 0.12624187767505646\n",
            "Loss: 0.12508977949619293\n",
            "Loss: 0.12393768876791\n",
            "Loss: 0.12278560549020767\n",
            "Loss: 0.12163352966308594\n",
            "Loss: 0.1204814463853836\n",
            "Loss: 0.11932935565710068\n",
            "Loss: 0.11817727237939835\n",
            "Loss: 0.11702518165111542\n",
            "Loss: 0.11587311327457428\n",
            "Loss: 0.11476147174835205\n",
            "Loss: 0.11370686441659927\n",
            "Loss: 0.1126522570848465\n",
            "Loss: 0.11159764230251312\n",
            "Loss: 0.11054304987192154\n",
            "Loss: 0.10948844254016876\n",
            "Loss: 0.10846539586782455\n",
            "Loss: 0.10750406980514526\n",
            "Loss: 0.10654274374246597\n",
            "Loss: 0.10558142513036728\n",
            "Loss: 0.10462009906768799\n",
            "Loss: 0.1036587730050087\n",
            "Loss: 0.10270978510379791\n",
            "Loss: 0.10183751583099365\n",
            "Loss: 0.10096526145935059\n",
            "Loss: 0.10009298473596573\n",
            "Loss: 0.09922071546316147\n",
            "Loss: 0.09834843873977661\n",
            "Loss: 0.09747617691755295\n",
            "Loss: 0.09663032740354538\n",
            "Loss: 0.09584285318851471\n",
            "Loss: 0.09505538642406464\n",
            "Loss: 0.09426790475845337\n",
            "Loss: 0.09348044544458389\n",
            "Loss: 0.09269297122955322\n",
            "Loss: 0.09190551191568375\n",
            "Loss: 0.09114636480808258\n",
            "Loss: 0.09043945372104645\n",
            "Loss: 0.08973254263401031\n",
            "Epoch: 200 | Loss: 0.08973254263401031 | Test loss: 0.22795839607715607\n",
            "OrderedDict([('weights', tensor([0.4150])), ('bias', tensor([0.3257]))])\n",
            "Loss: 0.08902563154697418\n",
            "Loss: 0.08831872791051865\n",
            "Loss: 0.08761182427406311\n",
            "Loss: 0.08690490573644638\n",
            "Loss: 0.08621595799922943\n",
            "Loss: 0.0855853408575058\n",
            "Loss: 0.08495471626520157\n",
            "Loss: 0.08432409167289734\n",
            "Loss: 0.08369346708059311\n",
            "Loss: 0.08306284993886948\n",
            "Loss: 0.08243221789598465\n",
            "Loss: 0.08180160820484161\n",
            "Loss: 0.08120343089103699\n",
            "Loss: 0.08064477890729904\n",
            "Loss: 0.0800861120223999\n",
            "Loss: 0.07952746003866196\n",
            "Loss: 0.07896880060434341\n",
            "Loss: 0.07841013371944427\n",
            "Loss: 0.07785148918628693\n",
            "Loss: 0.07729282230138779\n",
            "Loss: 0.07676678895950317\n",
            "Loss: 0.07627572864294052\n",
            "Loss: 0.07578467577695847\n",
            "Loss: 0.07529362291097641\n",
            "Loss: 0.07480257004499435\n",
            "Loss: 0.0743115097284317\n",
            "Loss: 0.07382047176361084\n",
            "Loss: 0.07332941144704819\n",
            "Loss: 0.072856605052948\n",
            "Loss: 0.07242877781391144\n",
            "Loss: 0.07200097292661667\n",
            "Loss: 0.0715731531381607\n",
            "Loss: 0.07114534080028534\n",
            "Loss: 0.07071752846240997\n",
            "Loss: 0.0702897235751152\n",
            "Loss: 0.06986190378665924\n",
            "Loss: 0.06943409144878387\n",
            "Loss: 0.06902603805065155\n",
            "Loss: 0.06865701824426651\n",
            "Loss: 0.06828799843788147\n",
            "Loss: 0.06791899353265762\n",
            "Loss: 0.06754995882511139\n",
            "Loss: 0.06718094646930695\n",
            "Loss: 0.0668119341135025\n",
            "Loss: 0.06644289940595627\n",
            "Loss: 0.06607388705015182\n",
            "Loss: 0.06570921093225479\n",
            "Loss: 0.06539449840784073\n",
            "Loss: 0.06507977098226547\n",
            "Loss: 0.06476505100727081\n",
            "Loss: 0.06445033103227615\n",
            "Loss: 0.0641356036067009\n",
            "Loss: 0.06382088363170624\n",
            "Loss: 0.06350617110729218\n",
            "Loss: 0.06319145113229752\n",
            "Loss: 0.06287673115730286\n",
            "Loss: 0.0625620037317276\n",
            "Loss: 0.062271296977996826\n",
            "Loss: 0.06200631707906723\n",
            "Loss: 0.06174134090542793\n",
            "Loss: 0.06147634983062744\n",
            "Loss: 0.061211369931697845\n",
            "Loss: 0.06094638630747795\n",
            "Loss: 0.06068141385912895\n",
            "Loss: 0.06041641905903816\n",
            "Loss: 0.060151439160108566\n",
            "Loss: 0.05988645553588867\n",
            "Loss: 0.05962147191166878\n",
            "Loss: 0.05937860533595085\n",
            "Loss: 0.05915876477956772\n",
            "Loss: 0.058938927948474884\n",
            "Loss: 0.05871908739209175\n",
            "Loss: 0.05849923565983772\n",
            "Loss: 0.05827939510345459\n",
            "Loss: 0.05805954337120056\n",
            "Loss: 0.05783969908952713\n",
            "Loss: 0.057619858533144\n",
            "Loss: 0.05740001052618027\n",
            "Loss: 0.05718017369508743\n",
            "Loss: 0.0569603331387043\n",
            "Loss: 0.05676015466451645\n",
            "Loss: 0.05658075958490372\n",
            "Loss: 0.05640135332942009\n",
            "Loss: 0.05622195079922676\n",
            "Loss: 0.05604255199432373\n",
            "Loss: 0.0558631531894207\n",
            "Loss: 0.05568375438451767\n",
            "Loss: 0.05550435930490494\n",
            "Loss: 0.05532495304942131\n",
            "Loss: 0.05514555424451828\n",
            "Loss: 0.05496615171432495\n",
            "Loss: 0.05478675290942192\n",
            "Loss: 0.05460735410451889\n",
            "Loss: 0.05443967133760452\n",
            "Loss: 0.05429593846201897\n",
            "Loss: 0.05415221303701401\n",
            "Loss: 0.05400847643613815\n",
            "Loss: 0.05386475846171379\n",
            "Loss: 0.05372103303670883\n",
            "Loss: 0.05357731133699417\n",
            "Epoch: 300 | Loss: 0.05357731133699417 | Test loss: 0.15086300671100616\n",
            "OrderedDict([('weights', tensor([0.4485])), ('bias', tensor([0.3730]))])\n",
            "Loss: 0.05343357473611832\n",
            "Loss: 0.05328984931111336\n",
            "Loss: 0.0531461238861084\n",
            "Loss: 0.05300239473581314\n",
            "Loss: 0.052858661860227585\n",
            "Loss: 0.052714936435222626\n",
            "Loss: 0.052571214735507965\n",
            "Loss: 0.05242748185992241\n",
            "Loss: 0.05229362100362778\n",
            "Loss: 0.05218071490526199\n",
            "Loss: 0.05206780880689621\n",
            "Loss: 0.05195491388440132\n",
            "Loss: 0.05184202268719673\n",
            "Loss: 0.05172910541296005\n",
            "Loss: 0.05161619931459427\n",
            "Loss: 0.05150330066680908\n",
            "Loss: 0.0513903982937336\n",
            "Loss: 0.05127749592065811\n",
            "Loss: 0.05116458982229233\n",
            "Loss: 0.05105169489979744\n",
            "Loss: 0.05093878507614136\n",
            "Loss: 0.05082588270306587\n",
            "Loss: 0.05071298032999039\n",
            "Loss: 0.0506000742316246\n",
            "Loss: 0.050487179309129715\n",
            "Loss: 0.050378382205963135\n",
            "Loss: 0.050291359424591064\n",
            "Loss: 0.050204355269670486\n",
            "Loss: 0.050117332488298416\n",
            "Loss: 0.050030313432216644\n",
            "Loss: 0.049943309277296066\n",
            "Loss: 0.0498562827706337\n",
            "Loss: 0.049769263714551926\n",
            "Loss: 0.04968224838376045\n",
            "Loss: 0.04959522932767868\n",
            "Loss: 0.049508217722177505\n",
            "Loss: 0.04942120611667633\n",
            "Loss: 0.04933418333530426\n",
            "Loss: 0.04924716800451279\n",
            "Loss: 0.049160152673721313\n",
            "Loss: 0.04907313734292984\n",
            "Loss: 0.04898611828684807\n",
            "Loss: 0.048899102956056595\n",
            "Loss: 0.04881208389997482\n",
            "Loss: 0.04872506856918335\n",
            "Loss: 0.048638053238391876\n",
            "Loss: 0.04855869710445404\n",
            "Loss: 0.048492539674043655\n",
            "Loss: 0.04842637851834297\n",
            "Loss: 0.04836020991206169\n",
            "Loss: 0.04829404503107071\n",
            "Loss: 0.04822787642478943\n",
            "Loss: 0.048161718994379044\n",
            "Loss: 0.048095546662807465\n",
            "Loss: 0.04802938550710678\n",
            "Loss: 0.0479632243514061\n",
            "Loss: 0.04789705574512482\n",
            "Loss: 0.04783089831471443\n",
            "Loss: 0.04776472598314285\n",
            "Loss: 0.04769856110215187\n",
            "Loss: 0.04763239622116089\n",
            "Loss: 0.04756623134016991\n",
            "Loss: 0.04750007390975952\n",
            "Loss: 0.04743390530347824\n",
            "Loss: 0.04736773669719696\n",
            "Loss: 0.04730157181620598\n",
            "Loss: 0.0472353920340538\n",
            "Loss: 0.047169238328933716\n",
            "Loss: 0.047103073447942734\n",
            "Loss: 0.04703690856695175\n",
            "Loss: 0.04697074741125107\n",
            "Loss: 0.04690460115671158\n",
            "Loss: 0.04685414209961891\n",
            "Loss: 0.046803683042526245\n",
            "Loss: 0.046753231436014175\n",
            "Loss: 0.04670276492834091\n",
            "Loss: 0.046652309596538544\n",
            "Loss: 0.04660185053944588\n",
            "Loss: 0.04655139893293381\n",
            "Loss: 0.04650093987584114\n",
            "Loss: 0.04645047336816788\n",
            "Loss: 0.04640001803636551\n",
            "Loss: 0.046349555253982544\n",
            "Loss: 0.04629909247159958\n",
            "Loss: 0.04624864086508751\n",
            "Loss: 0.046198178082704544\n",
            "Loss: 0.046147722750902176\n",
            "Loss: 0.04609726741909981\n",
            "Loss: 0.04604680463671684\n",
            "Loss: 0.045996345579624176\n",
            "Loss: 0.04594588279724121\n",
            "Loss: 0.04589542746543884\n",
            "Loss: 0.04584496468305588\n",
            "Loss: 0.045794516801834106\n",
            "Loss: 0.04574405029416084\n",
            "Loss: 0.045693591237068176\n",
            "Loss: 0.04564313963055611\n",
            "Loss: 0.04559267684817314\n",
            "Loss: 0.045542217791080475\n",
            "Loss: 0.04549176245927811\n",
            "Epoch: 400 | Loss: 0.04549176245927811 | Test loss: 0.11657620966434479\n",
            "OrderedDict([('weights', tensor([0.4730])), ('bias', tensor([0.3855]))])\n",
            "Loss: 0.04544129967689514\n",
            "Loss: 0.04539085179567337\n",
            "Loss: 0.04534038156270981\n",
            "Loss: 0.04528992623090744\n",
            "Loss: 0.04523947089910507\n",
            "Loss: 0.045189011842012405\n",
            "Loss: 0.04513854905962944\n",
            "Loss: 0.04509454965591431\n",
            "Loss: 0.045054562389850616\n",
            "Loss: 0.045014552772045135\n",
            "Loss: 0.04497454687952995\n",
            "Loss: 0.04493454843759537\n",
            "Loss: 0.04489455372095108\n",
            "Loss: 0.044854551553726196\n",
            "Loss: 0.044814541935920715\n",
            "Loss: 0.04477455094456673\n",
            "Loss: 0.044734545052051544\n",
            "Loss: 0.04469455033540726\n",
            "Loss: 0.04465455189347267\n",
            "Loss: 0.04461454600095749\n",
            "Loss: 0.0445745475590229\n",
            "Loss: 0.04453454539179802\n",
            "Loss: 0.044494546949863434\n",
            "Loss: 0.04445454478263855\n",
            "Loss: 0.044414542615413666\n",
            "Loss: 0.04437453672289848\n",
            "Loss: 0.0443345345556736\n",
            "Loss: 0.04429454356431961\n",
            "Loss: 0.04425454139709473\n",
            "Loss: 0.04421453922986984\n",
            "Loss: 0.04417454078793526\n",
            "Loss: 0.04413453862071037\n",
            "Loss: 0.04409453272819519\n",
            "Loss: 0.0440545380115509\n",
            "Loss: 0.04401453956961632\n",
            "Loss: 0.04397452995181084\n",
            "Loss: 0.04393453150987625\n",
            "Loss: 0.043894533067941666\n",
            "Loss: 0.04385453090071678\n",
            "Loss: 0.043814532458782196\n",
            "Loss: 0.043774526566267014\n",
            "Loss: 0.043734531849622726\n",
            "Loss: 0.04369453340768814\n",
            "Loss: 0.04365452378988266\n",
            "Loss: 0.04361452907323837\n",
            "Loss: 0.04357453063130379\n",
            "Loss: 0.043534524738788605\n",
            "Loss: 0.04349452629685402\n",
            "Loss: 0.043454527854919434\n",
            "Loss: 0.04341452196240425\n",
            "Loss: 0.043374527245759964\n",
            "Loss: 0.04333452507853508\n",
            "Loss: 0.043294526636600494\n",
            "Loss: 0.04325452446937561\n",
            "Loss: 0.04321451857686043\n",
            "Loss: 0.04317452758550644\n",
            "Loss: 0.04313452169299126\n",
            "Loss: 0.04309451952576637\n",
            "Loss: 0.04305451363325119\n",
            "Loss: 0.043014515191316605\n",
            "Loss: 0.04297452047467232\n",
            "Loss: 0.042934514582157135\n",
            "Loss: 0.04289551451802254\n",
            "Loss: 0.04286060854792595\n",
            "Loss: 0.04282570630311966\n",
            "Loss: 0.04279080033302307\n",
            "Loss: 0.04275590553879738\n",
            "Loss: 0.042720992118120193\n",
            "Loss: 0.0426860973238945\n",
            "Loss: 0.04265119880437851\n",
            "Loss: 0.04261629283428192\n",
            "Loss: 0.04258139431476593\n",
            "Loss: 0.04254649952054024\n",
            "Loss: 0.04251159727573395\n",
            "Loss: 0.04247669130563736\n",
            "Loss: 0.04244178533554077\n",
            "Loss: 0.04240688681602478\n",
            "Loss: 0.042371977120637894\n",
            "Loss: 0.0423370823264122\n",
            "Loss: 0.04230218380689621\n",
            "Loss: 0.04226727783679962\n",
            "Loss: 0.04223238304257393\n",
            "Loss: 0.04219748452305794\n",
            "Loss: 0.04216257855296135\n",
            "Loss: 0.04212767630815506\n",
            "Loss: 0.04209277033805847\n",
            "Loss: 0.04205787554383278\n",
            "Loss: 0.042022962123155594\n",
            "Loss: 0.0419880673289299\n",
            "Loss: 0.04195316880941391\n",
            "Loss: 0.04191826283931732\n",
            "Loss: 0.04188336431980133\n",
            "Loss: 0.04184846952557564\n",
            "Loss: 0.04181356728076935\n",
            "Loss: 0.04177866131067276\n",
            "Loss: 0.04174375534057617\n",
            "Loss: 0.04170885682106018\n",
            "Loss: 0.041673947125673294\n",
            "Loss: 0.0416390523314476\n",
            "Loss: 0.04160415381193161\n",
            "Epoch: 500 | Loss: 0.04160415381193161 | Test loss: 0.10088418424129486\n",
            "OrderedDict([('weights', tensor([0.4924])), ('bias', tensor([0.3839]))])\n",
            "Loss: 0.04156924784183502\n",
            "Loss: 0.04153435304760933\n",
            "Loss: 0.04149945452809334\n",
            "Loss: 0.04146454855799675\n",
            "Loss: 0.04142964631319046\n",
            "Loss: 0.04139474034309387\n",
            "Loss: 0.04135984554886818\n",
            "Loss: 0.041324932128190994\n",
            "Loss: 0.0412900373339653\n",
            "Loss: 0.04125513881444931\n",
            "Loss: 0.04122023284435272\n",
            "Loss: 0.04118533432483673\n",
            "Loss: 0.04115043953061104\n",
            "Loss: 0.04111553728580475\n",
            "Loss: 0.04108063131570816\n",
            "Loss: 0.04104572534561157\n",
            "Loss: 0.04101082682609558\n",
            "Loss: 0.040975917130708694\n",
            "Loss: 0.040941022336483\n",
            "Loss: 0.04090612381696701\n",
            "Loss: 0.04087121784687042\n",
            "Loss: 0.04083632305264473\n",
            "Loss: 0.04080142453312874\n",
            "Loss: 0.04076651856303215\n",
            "Loss: 0.04073161631822586\n",
            "Loss: 0.04069671034812927\n",
            "Loss: 0.04066181555390358\n",
            "Loss: 0.040626902133226395\n",
            "Loss: 0.0405920073390007\n",
            "Loss: 0.04055710881948471\n",
            "Loss: 0.04052220284938812\n",
            "Loss: 0.04048730432987213\n",
            "Loss: 0.04045240953564644\n",
            "Loss: 0.04041750729084015\n",
            "Loss: 0.04038260132074356\n",
            "Loss: 0.04034769535064697\n",
            "Loss: 0.04031279683113098\n",
            "Loss: 0.040277887135744095\n",
            "Loss: 0.0402429923415184\n",
            "Loss: 0.04020809382200241\n",
            "Loss: 0.04017318785190582\n",
            "Loss: 0.04013829305768013\n",
            "Loss: 0.04010339453816414\n",
            "Loss: 0.04006849601864815\n",
            "Loss: 0.04003359004855156\n",
            "Loss: 0.03999868780374527\n",
            "Loss: 0.03996378555893898\n",
            "Loss: 0.03992888331413269\n",
            "Loss: 0.0398939847946167\n",
            "Loss: 0.03985908254981041\n",
            "Loss: 0.03982418030500412\n",
            "Loss: 0.03978928178548813\n",
            "Loss: 0.039754386991262436\n",
            "Loss: 0.03971948102116585\n",
            "Loss: 0.03968457505106926\n",
            "Loss: 0.03964967280626297\n",
            "Loss: 0.03961477428674698\n",
            "Loss: 0.03957986459136009\n",
            "Loss: 0.0395449697971344\n",
            "Loss: 0.03951007127761841\n",
            "Loss: 0.03947516530752182\n",
            "Loss: 0.03944026678800583\n",
            "Loss: 0.03940536826848984\n",
            "Loss: 0.03937046602368355\n",
            "Loss: 0.03933556005358696\n",
            "Loss: 0.03930065780878067\n",
            "Loss: 0.03926575928926468\n",
            "Loss: 0.03923085331916809\n",
            "Loss: 0.0391959547996521\n",
            "Loss: 0.03916105255484581\n",
            "Loss: 0.03912615031003952\n",
            "Loss: 0.03909125179052353\n",
            "Loss: 0.039056356996297836\n",
            "Loss: 0.03902145102620125\n",
            "Loss: 0.03898654505610466\n",
            "Loss: 0.03895164281129837\n",
            "Loss: 0.03891674429178238\n",
            "Loss: 0.03888183459639549\n",
            "Loss: 0.0388469398021698\n",
            "Loss: 0.03881204128265381\n",
            "Loss: 0.03877713531255722\n",
            "Loss: 0.03874223679304123\n",
            "Loss: 0.03870733827352524\n",
            "Loss: 0.03867243602871895\n",
            "Loss: 0.03863753005862236\n",
            "Loss: 0.03860262781381607\n",
            "Loss: 0.03856772929430008\n",
            "Loss: 0.03853282332420349\n",
            "Loss: 0.0384979248046875\n",
            "Loss: 0.03846302255988121\n",
            "Loss: 0.03842812031507492\n",
            "Loss: 0.03839322179555893\n",
            "Loss: 0.03835832700133324\n",
            "Loss: 0.03832342103123665\n",
            "Loss: 0.03828851506114006\n",
            "Loss: 0.03825361281633377\n",
            "Loss: 0.03821871429681778\n",
            "Loss: 0.03818380460143089\n",
            "Loss: 0.0381489098072052\n",
            "Loss: 0.03811401128768921\n",
            "Epoch: 600 | Loss: 0.03811401128768921 | Test loss: 0.08986451476812363\n",
            "OrderedDict([('weights', tensor([0.5104])), ('bias', tensor([0.3789]))])\n",
            "Loss: 0.03807910531759262\n",
            "Loss: 0.03804420679807663\n",
            "Loss: 0.03800930827856064\n",
            "Loss: 0.03797440603375435\n",
            "Loss: 0.03793950006365776\n",
            "Loss: 0.03790459781885147\n",
            "Loss: 0.03786969929933548\n",
            "Loss: 0.03783479332923889\n",
            "Loss: 0.0377998948097229\n",
            "Loss: 0.03776499256491661\n",
            "Loss: 0.03773009032011032\n",
            "Loss: 0.03769519180059433\n",
            "Loss: 0.03766029700636864\n",
            "Loss: 0.03762539103627205\n",
            "Loss: 0.03759048506617546\n",
            "Loss: 0.03755558282136917\n",
            "Loss: 0.03752068430185318\n",
            "Loss: 0.03748577460646629\n",
            "Loss: 0.0374508798122406\n",
            "Loss: 0.03741598129272461\n",
            "Loss: 0.03738107532262802\n",
            "Loss: 0.03734617680311203\n",
            "Loss: 0.03731127828359604\n",
            "Loss: 0.03727637603878975\n",
            "Loss: 0.03724147006869316\n",
            "Loss: 0.03720656782388687\n",
            "Loss: 0.03717166930437088\n",
            "Loss: 0.03713676333427429\n",
            "Loss: 0.0371018648147583\n",
            "Loss: 0.037067197263240814\n",
            "Loss: 0.037033338099718094\n",
            "Loss: 0.036998435854911804\n",
            "Loss: 0.036964669823646545\n",
            "Loss: 0.036929916590452194\n",
            "Loss: 0.036895763128995895\n",
            "Loss: 0.03686138987541199\n",
            "Loss: 0.036826856434345245\n",
            "Loss: 0.03679286316037178\n",
            "Loss: 0.03675796836614609\n",
            "Loss: 0.03672432154417038\n",
            "Loss: 0.03668942302465439\n",
            "Loss: 0.03665542230010033\n",
            "Loss: 0.03662090748548508\n",
            "Loss: 0.03658652305603027\n",
            "Loss: 0.03655238077044487\n",
            "Loss: 0.03651762008666992\n",
            "Loss: 0.03648385405540466\n",
            "Loss: 0.03644895553588867\n",
            "Loss: 0.03641509264707565\n",
            "Loss: 0.03638043254613876\n",
            "Loss: 0.036346182227134705\n",
            "Loss: 0.036311905831098557\n",
            "Loss: 0.03627727925777435\n",
            "Loss: 0.03624338284134865\n",
            "Loss: 0.03620847314596176\n",
            "Loss: 0.036174751818180084\n",
            "Loss: 0.03613995760679245\n",
            "Loss: 0.036105841398239136\n",
            "Loss: 0.03607143089175224\n",
            "Loss: 0.036036938428878784\n",
            "Loss: 0.03600289672613144\n",
            "Loss: 0.035968031734228134\n",
            "Loss: 0.03593437746167183\n",
            "Loss: 0.03589947521686554\n",
            "Loss: 0.035865504294633865\n",
            "Loss: 0.03583095222711563\n",
            "Loss: 0.03579659387469292\n",
            "Loss: 0.03576242923736572\n",
            "Loss: 0.03572769835591316\n",
            "Loss: 0.035693906247615814\n",
            "Loss: 0.03565899655222893\n",
            "Loss: 0.035625167191028595\n",
            "Loss: 0.03559047356247902\n",
            "Loss: 0.03555626422166824\n",
            "Loss: 0.03552195802330971\n",
            "Loss: 0.03548736125230789\n",
            "Loss: 0.0354534275829792\n",
            "Loss: 0.035418521612882614\n",
            "Loss: 0.035384830087423325\n",
            "Loss: 0.035350002348423004\n",
            "Loss: 0.035315923392772675\n",
            "Loss: 0.0352814719080925\n",
            "Loss: 0.03524700924754143\n",
            "Loss: 0.03521294146776199\n",
            "Loss: 0.03517811372876167\n",
            "Loss: 0.03514442220330238\n",
            "Loss: 0.0351095125079155\n",
            "Loss: 0.035075593739748\n",
            "Loss: 0.03504099324345589\n",
            "Loss: 0.035006679594516754\n",
            "Loss: 0.03497246652841568\n",
            "Loss: 0.0349377766251564\n",
            "Loss: 0.03490393981337547\n",
            "Loss: 0.03486904129385948\n",
            "Loss: 0.03483524173498154\n",
            "Loss: 0.03480052202939987\n",
            "Loss: 0.034766342490911484\n",
            "Loss: 0.034731991589069366\n",
            "Loss: 0.034697435796260834\n",
            "Loss: 0.03466346859931946\n",
            "Epoch: 700 | Loss: 0.03466346859931946 | Test loss: 0.08097299933433533\n",
            "OrderedDict([('weights', tensor([0.5277])), ('bias', tensor([0.3724]))])\n",
            "Loss: 0.03462856262922287\n",
            "Loss: 0.03459491580724716\n",
            "Loss: 0.03456003591418266\n",
            "Loss: 0.034526001662015915\n",
            "Loss: 0.034491509199142456\n",
            "Loss: 0.03445709869265556\n",
            "Loss: 0.03442298620939255\n",
            "Loss: 0.03438819572329521\n",
            "Loss: 0.03435446694493294\n",
            "Loss: 0.03431956097483635\n",
            "Loss: 0.034285664558410645\n",
            "Loss: 0.034251030534505844\n",
            "Loss: 0.03421676158905029\n",
            "Loss: 0.034182511270046234\n",
            "Loss: 0.034147851169109344\n",
            "Loss: 0.03411398082971573\n",
            "Loss: 0.03407908231019974\n",
            "Loss: 0.03404533118009567\n",
            "Loss: 0.03401055932044983\n",
            "Loss: 0.03397642448544502\n",
            "Loss: 0.03394203260540962\n",
            "Loss: 0.033907510340213776\n",
            "Loss: 0.03387351706624031\n",
            "Loss: 0.033838607370853424\n",
            "Loss: 0.03380498290061951\n",
            "Loss: 0.033770088106393814\n",
            "Loss: 0.033736079931259155\n",
            "Loss: 0.03370155766606331\n",
            "Loss: 0.033667173236608505\n",
            "Loss: 0.0336330309510231\n",
            "Loss: 0.033598270267248154\n",
            "Loss: 0.033564500510692596\n",
            "Loss: 0.033529605716466904\n",
            "Loss: 0.03349574655294418\n",
            "Loss: 0.0334610790014267\n",
            "Loss: 0.03342684358358383\n",
            "Loss: 0.03339255228638649\n",
            "Loss: 0.03335793316364288\n",
            "Loss: 0.03332402929663658\n",
            "Loss: 0.03328912332653999\n",
            "Loss: 0.033255405724048615\n",
            "Loss: 0.033220600336790085\n",
            "Loss: 0.03318650275468826\n",
            "Loss: 0.03315207362174988\n",
            "Loss: 0.03311759606003761\n",
            "Loss: 0.03308354690670967\n",
            "Loss: 0.033048685640096664\n",
            "Loss: 0.033015020191669464\n",
            "Loss: 0.03298012539744377\n",
            "Loss: 0.032946161925792694\n",
            "Loss: 0.032911598682403564\n",
            "Loss: 0.03287725895643234\n",
            "Loss: 0.03284307196736336\n",
            "Loss: 0.03280835971236229\n",
            "Loss: 0.03277454525232315\n",
            "Loss: 0.032739631831645966\n",
            "Loss: 0.032705824822187424\n",
            "Loss: 0.032671116292476654\n",
            "Loss: 0.03263692185282707\n",
            "Loss: 0.03260258957743645\n",
            "Loss: 0.03256801888346672\n",
            "Loss: 0.03253406286239624\n",
            "Loss: 0.03249916434288025\n",
            "Loss: 0.03246549516916275\n",
            "Loss: 0.03243063762784004\n",
            "Loss: 0.0323965810239315\n",
            "Loss: 0.032362114638090134\n",
            "Loss: 0.03232767805457115\n",
            "Loss: 0.032293591648340225\n",
            "Loss: 0.0322587676346302\n",
            "Loss: 0.03222506120800972\n",
            "Loss: 0.03219016641378403\n",
            "Loss: 0.03215624764561653\n",
            "Loss: 0.03212163969874382\n",
            "Loss: 0.03208733722567558\n",
            "Loss: 0.032053105533123016\n",
            "Loss: 0.03201843053102493\n",
            "Loss: 0.03198458254337311\n",
            "Loss: 0.031949687749147415\n",
            "Loss: 0.031915903091430664\n",
            "Loss: 0.03188116103410721\n",
            "Loss: 0.031846996396780014\n",
            "Loss: 0.0318126380443573\n",
            "Loss: 0.03177809715270996\n",
            "Loss: 0.03174411505460739\n",
            "Loss: 0.031709205359220505\n",
            "Loss: 0.03167556971311569\n",
            "Loss: 0.031640682369470596\n",
            "Loss: 0.03160666301846504\n",
            "Loss: 0.031572166830301285\n",
            "Loss: 0.03153776004910469\n",
            "Loss: 0.03150363638997078\n",
            "Loss: 0.03146884962916374\n",
            "Loss: 0.03143510967493057\n",
            "Loss: 0.03140020743012428\n",
            "Loss: 0.03136632218956947\n",
            "Loss: 0.031331680715084076\n",
            "Loss: 0.031297408044338226\n",
            "Loss: 0.03126315027475357\n",
            "Loss: 0.03122851625084877\n",
            "Epoch: 800 | Loss: 0.03122851625084877 | Test loss: 0.07297395914793015\n",
            "OrderedDict([('weights', tensor([0.5448])), ('bias', tensor([0.3652]))])\n",
            "Loss: 0.03119463101029396\n",
            "Loss: 0.031159725040197372\n",
            "Loss: 0.0311259925365448\n",
            "Loss: 0.031091203913092613\n",
            "Loss: 0.031057080253958702\n",
            "Loss: 0.031022677198052406\n",
            "Loss: 0.03098817728459835\n",
            "Loss: 0.03095415234565735\n",
            "Loss: 0.03091926872730255\n",
            "Loss: 0.03088562563061714\n",
            "Loss: 0.03085072711110115\n",
            "Loss: 0.03081674501299858\n",
            "Loss: 0.030782198533415794\n",
            "Loss: 0.03074783645570278\n",
            "Loss: 0.030713677406311035\n",
            "Loss: 0.030678927898406982\n",
            "Loss: 0.030645150691270828\n",
            "Loss: 0.03061024472117424\n",
            "Loss: 0.030576402321457863\n",
            "Loss: 0.03054172359406948\n",
            "Loss: 0.03050749935209751\n",
            "Loss: 0.030473193153738976\n",
            "Loss: 0.03043859638273716\n",
            "Loss: 0.030404681339859962\n",
            "Loss: 0.030369769781827927\n",
            "Loss: 0.030336061492562294\n",
            "Loss: 0.03030124306678772\n",
            "Loss: 0.030267158523201942\n",
            "Loss: 0.03023272193968296\n",
            "Loss: 0.030198251828551292\n",
            "Loss: 0.030164187774062157\n",
            "Loss: 0.030129343271255493\n",
            "Loss: 0.030095672234892845\n",
            "Loss: 0.030060768127441406\n",
            "Loss: 0.03002682328224182\n",
            "Loss: 0.0299922414124012\n",
            "Loss: 0.02995791658759117\n",
            "Loss: 0.02992371842265129\n",
            "Loss: 0.029889006167650223\n",
            "Loss: 0.029855191707611084\n",
            "Loss: 0.029820293188095093\n",
            "Loss: 0.029786478728055954\n",
            "Loss: 0.02975175902247429\n",
            "Loss: 0.029717573896050453\n",
            "Loss: 0.02968323789536953\n",
            "Loss: 0.0296486709266901\n",
            "Loss: 0.029614707455039024\n",
            "Loss: 0.02957981266081333\n",
            "Loss: 0.02954614721238613\n",
            "Loss: 0.029511287808418274\n",
            "Loss: 0.029477238655090332\n",
            "Loss: 0.029442761093378067\n",
            "Loss: 0.029408331960439682\n",
            "Loss: 0.02937423624098301\n",
            "Loss: 0.02933942899107933\n",
            "Loss: 0.02930571138858795\n",
            "Loss: 0.029270809143781662\n",
            "Loss: 0.02923690341413021\n",
            "Loss: 0.029202282428741455\n",
            "Loss: 0.02916799485683441\n",
            "Loss: 0.029133755713701248\n",
            "Loss: 0.029099086299538612\n",
            "Loss: 0.029065227136015892\n",
            "Loss: 0.02903033420443535\n",
            "Loss: 0.028996562585234642\n",
            "Loss: 0.02896180748939514\n",
            "Loss: 0.02892765775322914\n",
            "Loss: 0.028893280774354935\n",
            "Loss: 0.02885875664651394\n",
            "Loss: 0.028824755921959877\n",
            "Loss: 0.028789842501282692\n",
            "Loss: 0.02875622548162937\n",
            "Loss: 0.02872132696211338\n",
            "Loss: 0.02868732251226902\n",
            "Loss: 0.028652798384428024\n",
            "Loss: 0.02861841954290867\n",
            "Loss: 0.028584271669387817\n",
            "Loss: 0.02854951098561287\n",
            "Loss: 0.028515750542283058\n",
            "Loss: 0.02848084643483162\n",
            "Loss: 0.02844698168337345\n",
            "Loss: 0.02841232344508171\n",
            "Loss: 0.0283780749887228\n",
            "Loss: 0.028343800455331802\n",
            "Loss: 0.028309166431427002\n",
            "Loss: 0.028275271877646446\n",
            "Loss: 0.028240377083420753\n",
            "Loss: 0.02820664644241333\n",
            "Loss: 0.028171848505735397\n",
            "Loss: 0.02813773788511753\n",
            "Loss: 0.028103316202759743\n",
            "Loss: 0.02806883119046688\n",
            "Loss: 0.028034795075654984\n",
            "Loss: 0.02799992822110653\n",
            "Loss: 0.027966270223259926\n",
            "Loss: 0.027931367978453636\n",
            "Loss: 0.027897397056221962\n",
            "Loss: 0.027862846851348877\n",
            "Loss: 0.02782849594950676\n",
            "Loss: 0.027794325724244118\n",
            "Epoch: 900 | Loss: 0.027794325724244118 | Test loss: 0.06490625441074371\n",
            "OrderedDict([('weights', tensor([0.5619])), ('bias', tensor([0.3580]))])\n",
            "Loss: 0.02775958739221096\n",
            "Loss: 0.027725791558623314\n",
            "Loss: 0.027690891176462173\n",
            "Loss: 0.02765706181526184\n",
            "Loss: 0.027622371912002563\n",
            "Loss: 0.02758815884590149\n",
            "Loss: 0.027553845196962357\n",
            "Loss: 0.02751925028860569\n",
            "Loss: 0.027485316619277\n",
            "Loss: 0.02745041623711586\n",
            "Loss: 0.02741672471165657\n",
            "Loss: 0.027381891384720802\n",
            "Loss: 0.027347808703780174\n",
            "Loss: 0.027313362807035446\n",
            "Loss: 0.02727891504764557\n",
            "Loss: 0.02724483609199524\n",
            "Loss: 0.02721000649034977\n",
            "Loss: 0.027176309376955032\n",
            "Loss: 0.02714141272008419\n",
            "Loss: 0.0271074827760458\n",
            "Loss: 0.027072886005043983\n",
            "Loss: 0.0270385779440403\n",
            "Loss: 0.027004361152648926\n",
            "Loss: 0.0269696656614542\n",
            "Loss: 0.02693583443760872\n",
            "Loss: 0.026900935918092728\n",
            "Loss: 0.02686714567244053\n",
            "Loss: 0.02683240734040737\n",
            "Loss: 0.02679823711514473\n",
            "Loss: 0.026763886213302612\n",
            "Loss: 0.02672932669520378\n",
            "Loss: 0.026695359498262405\n",
            "Loss: 0.026660453528165817\n",
            "Loss: 0.02662680111825466\n",
            "Loss: 0.026591932401061058\n",
            "Loss: 0.02655789814889431\n",
            "Loss: 0.026523401960730553\n",
            "Loss: 0.026488998904824257\n",
            "Loss: 0.02645489014685154\n",
            "Loss: 0.02642008289694786\n",
            "Loss: 0.026386354118585587\n",
            "Loss: 0.026351448148489\n",
            "Loss: 0.02631755731999874\n",
            "Loss: 0.026282930746674538\n",
            "Loss: 0.02624865248799324\n",
            "Loss: 0.026214396581053734\n",
            "Loss: 0.026179740205407143\n",
            "Loss: 0.026145881041884422\n",
            "Loss: 0.026110976934432983\n",
            "Loss: 0.02607722207903862\n",
            "Loss: 0.026042452082037926\n",
            "Loss: 0.02600831352174282\n",
            "Loss: 0.025973927229642868\n",
            "Loss: 0.02593940868973732\n",
            "Loss: 0.02590540051460266\n",
            "Loss: 0.025870507583022118\n",
            "Loss: 0.025836873799562454\n",
            "Loss: 0.025801967829465866\n",
            "Loss: 0.025767972692847252\n",
            "Loss: 0.025733450427651405\n",
            "Loss: 0.0256990734487772\n",
            "Loss: 0.0256649199873209\n",
            "Loss: 0.02563016675412655\n",
            "Loss: 0.025596395134925842\n",
            "Loss: 0.02556149661540985\n",
            "Loss: 0.02552764117717743\n",
            "Loss: 0.025492969900369644\n",
            "Loss: 0.02545873448252678\n",
            "Loss: 0.025424445047974586\n",
            "Loss: 0.02538982965052128\n",
            "Loss: 0.02535592019557953\n",
            "Loss: 0.02532101795077324\n",
            "Loss: 0.02528730034828186\n",
            "Loss: 0.025252491235733032\n",
            "Loss: 0.02521839737892151\n",
            "Loss: 0.025183964520692825\n",
            "Loss: 0.02514948509633541\n",
            "Loss: 0.02511543594300747\n",
            "Loss: 0.025080587714910507\n",
            "Loss: 0.02504691109061241\n",
            "Loss: 0.02501201629638672\n",
            "Loss: 0.02497805655002594\n",
            "Loss: 0.024943487718701363\n",
            "Loss: 0.024909157305955887\n",
            "Loss: 0.024874964728951454\n",
            "Loss: 0.024840235710144043\n",
            "Loss: 0.024806439876556396\n",
            "Loss: 0.024771535769104958\n",
            "Loss: 0.02473771944642067\n",
            "Loss: 0.0247030109167099\n",
            "Loss: 0.024668816477060318\n",
            "Loss: 0.024634480476379395\n",
            "Loss: 0.024599911645054817\n",
            "Loss: 0.024565961211919785\n",
            "Loss: 0.024531055241823196\n",
            "Loss: 0.02449738048017025\n",
            "Loss: 0.024462532252073288\n",
            "Loss: 0.02442847564816475\n",
            "Loss: 0.02439401112496853\n"
          ]
        }
      ]
    },
    {
      "cell_type": "code",
      "source": [
        "import numpy as np\n",
        "import matplotlib.pyplot as plt\n",
        "# Plot the loss curves\n",
        "plt.plot(epoch_count, np.array(torch.tensor(loss_values).cpu().numpy()), label=\"Train loss\")\n",
        "plt.plot(epoch_count, np.array(torch.tensor(test_loss_values).cpu().numpy()), label=\"Test loss\")\n",
        "plt.title(\"Training and test loss curves\")\n",
        "plt.ylabel(\"Loss\")\n",
        "plt.xlabel(\"Epochs\")\n",
        "plt.legend();"
      ],
      "metadata": {
        "colab": {
          "base_uri": "https://localhost:8080/",
          "height": 472
        },
        "id": "1cBmMSalUSmU",
        "outputId": "8126b6b9-9e60-4aa7-ce0d-846da06b650f"
      },
      "execution_count": 20,
      "outputs": [
        {
          "output_type": "display_data",
          "data": {
            "text/plain": [
              "<Figure size 640x480 with 1 Axes>"
            ],
            "image/png": "[encoded data removed]"
          },
          "metadata": {}
        }
      ]
    },
    {
      "cell_type": "code",
      "source": [
        "with torch.inference_mode():\n",
        "  y_preds_new = model_0(X_test)"
      ],
      "metadata": {
        "id": "bzrXRA_rWqfL"
      },
      "execution_count": 21,
      "outputs": []
    },
    {
      "cell_type": "code",
      "source": [
        "plot_predictions(predictions=y_preds);"
      ],
      "metadata": {
        "id": "93pLmagPWqbL",
        "colab": {
          "base_uri": "https://localhost:8080/",
          "height": 538
        },
        "outputId": "4b963ff4-c477-47a5-8aca-4e0898b108b3"
      },
      "execution_count": 22,
      "outputs": [
        {
          "output_type": "display_data",
          "data": {
            "text/plain": [
              "<Figure size 1000x700 with 1 Axes>"
            ],
            "image/png": "[encoded data removed]"
          },
          "metadata": {}
        }
      ]
    },
    {
      "cell_type": "code",
      "source": [
        "model_0.state_dict()"
      ],
      "metadata": {
        "colab": {
          "base_uri": "https://localhost:8080/"
        },
        "id": "3sZs8xGZTAVf",
        "outputId": "779a1d13-8eeb-44ea-e966-a3e542e558e1"
      },
      "execution_count": 23,
      "outputs": [
        {
          "output_type": "execute_result",
          "data": {
            "text/plain": [
              "OrderedDict([('weights', tensor([0.5788])), ('bias', tensor([0.3509]))])"
            ]
          },
          "metadata": {},
          "execution_count": 23
        }
      ]
    },
    {
      "cell_type": "code",
      "source": [
        "plot_predictions(predictions=y_preds_new);"
      ],
      "metadata": {
        "colab": {
          "base_uri": "https://localhost:8080/",
          "height": 538
        },
        "id": "oUaPCq2fC0HE",
        "outputId": "0dd0a2e1-e8ab-45a0-8e77-15672dd1f3d6"
      },
      "execution_count": 24,
      "outputs": [
        {
          "output_type": "display_data",
          "data": {
            "text/plain": [
              "<Figure size 1000x700 with 1 Axes>"
            ],
            "image/png": "[encoded data removed]"
          },
          "metadata": {}
        }
      ]
    },
    {
      "cell_type": "markdown",
      "source": [
        "## Saving a model in PyTorch\n",
        "\n",
        "There are three main methods you should know about for saving and loading models in PyTorch.\n",
        "\n",
        "1.  'torch.save()' - allows you to save a PyTorch object in Python's pickle format\n",
        "2.  'torch.load()' - allows you to load a saved PyTorch object\n",
        "3.  'torch.nn.Module.load_state_dict()' - allows to load a model's saved state dictionary"
      ],
      "metadata": {
        "id": "hyXfEEdXC0Eo"
      }
    },
    {
      "cell_type": "code",
      "source": [
        "# Saving our PyTorch model\n",
        "from pathlib import Path\n",
        "\n",
        "# 1. Create models directory\n",
        "MODEL_PATH = Path(\"models\")\n",
        "MODEL_PATH.mkdir(parents=True, exist_ok=True)\n",
        "\n",
        "# 2. Create model save path\n",
        "MODEL_NAME = \"01_pytorch_workflow_model_o.pth\"\n",
        "MODEL_SAVE_PATH = MODEL_PATH / MODEL_NAME\n",
        "MODEL_SAVE_PATH\n",
        "\n",
        "#3.  Save the model stat dict\n",
        "print(f\" Saving model to: {MODEL_SAVE_PATH}\")\n",
        "torch.save(obj=model_0.state_dict(),\n",
        "           f=MODEL_SAVE_PATH)"
      ],
      "metadata": {
        "colab": {
          "base_uri": "https://localhost:8080/"
        },
        "id": "kTqTREvkC0CJ",
        "outputId": "06944d50-d267-4298-ef58-54b044b9f0ea"
      },
      "execution_count": 25,
      "outputs": [
        {
          "output_type": "stream",
          "name": "stdout",
          "text": [
            " Saving model to: models/01_pytorch_workflow_model_o.pth\n"
          ]
        }
      ]
    },
    {
      "cell_type": "code",
      "source": [
        "!ls -l models"
      ],
      "metadata": {
        "colab": {
          "base_uri": "https://localhost:8080/"
        },
        "id": "Njx8yv-4Cz_q",
        "outputId": "b4b360b7-e7fd-49a0-8f87-1cc55aefdd8a"
      },
      "execution_count": 26,
      "outputs": [
        {
          "output_type": "stream",
          "name": "stdout",
          "text": [
            "total 4\n",
            "-rw-r--r-- 1 root root 1680 Feb 27 00:07 01_pytorch_workflow_model_o.pth\n"
          ]
        }
      ]
    },
    {
      "cell_type": "markdown",
      "source": [
        "## Loading a PyTorch model\n",
        "\n",
        "Since we saved our model's 'state_dict()' rather tan the entire model, we'll create a new instance of our model class and load the saved 'state_dict()' into that"
      ],
      "metadata": {
        "id": "aG_U6PH_Cz9E"
      }
    },
    {
      "cell_type": "code",
      "source": [
        "model_0.state_dict()"
      ],
      "metadata": {
        "colab": {
          "base_uri": "https://localhost:8080/"
        },
        "id": "QFI86AVICz6d",
        "outputId": "bf447f8e-a8c1-48be-8975-bdbae5c97570"
      },
      "execution_count": 27,
      "outputs": [
        {
          "output_type": "execute_result",
          "data": {
            "text/plain": [
              "OrderedDict([('weights', tensor([0.5788])), ('bias', tensor([0.3509]))])"
            ]
          },
          "metadata": {},
          "execution_count": 27
        }
      ]
    },
    {
      "cell_type": "code",
      "source": [
        "# To load in a saved stat_dict we have to instantiate a new instance of our model class\n",
        "loaded_model_0 = LinearRegressionModel()\n",
        "\n",
        "# Load the saved stat_dict of model_0 (this will update the new instance with updated parameters)\n",
        "loaded_model_0.load_state_dict(torch.load(f=MODEL_SAVE_PATH))"
      ],
      "metadata": {
        "colab": {
          "base_uri": "https://localhost:8080/"
        },
        "id": "ibghkif2Cz34",
        "outputId": "cb9d7fe3-9d1f-4f9d-b9e6-ecaf723bf1e6"
      },
      "execution_count": 28,
      "outputs": [
        {
          "output_type": "execute_result",
          "data": {
            "text/plain": [
              "<All keys matched successfully>"
            ]
          },
          "metadata": {},
          "execution_count": 28
        }
      ]
    },
    {
      "cell_type": "code",
      "source": [
        "loaded_model_0.state_dict()"
      ],
      "metadata": {
        "colab": {
          "base_uri": "https://localhost:8080/"
        },
        "id": "dsWvci1ZcqlR",
        "outputId": "a5dccbac-7bc0-4016-b835-2d96bdceefaf"
      },
      "execution_count": 29,
      "outputs": [
        {
          "output_type": "execute_result",
          "data": {
            "text/plain": [
              "OrderedDict([('weights', tensor([0.5788])), ('bias', tensor([0.3509]))])"
            ]
          },
          "metadata": {},
          "execution_count": 29
        }
      ]
    },
    {
      "cell_type": "code",
      "source": [
        "# Make some predictions with our loaded model\n",
        "loaded_model_0.eval()\n",
        "with torch.inference_mode():\n",
        "  loaded_model_preds = loaded_model_0(X_test)\n",
        "\n",
        "loaded_model_preds"
      ],
      "metadata": {
        "colab": {
          "base_uri": "https://localhost:8080/"
        },
        "id": "QyN98EMUcqic",
        "outputId": "5350d232-79af-4216-84b6-79213b2eea84"
      },
      "execution_count": 30,
      "outputs": [
        {
          "output_type": "execute_result",
          "data": {
            "text/plain": [
              "tensor([[0.8140],\n",
              "        [0.8255],\n",
              "        [0.8371],\n",
              "        [0.8487],\n",
              "        [0.8603],\n",
              "        [0.8718],\n",
              "        [0.8834],\n",
              "        [0.8950],\n",
              "        [0.9066],\n",
              "        [0.9181]])"
            ]
          },
          "metadata": {},
          "execution_count": 30
        }
      ]
    },
    {
      "cell_type": "code",
      "source": [
        "# Make some model preds\n",
        "model_0.eval()\n",
        "with torch.inference_mode():\n",
        "  y_preds = model_0(X_test)\n",
        "\n",
        "y_preds"
      ],
      "metadata": {
        "colab": {
          "base_uri": "https://localhost:8080/"
        },
        "id": "xazNqxcscqe5",
        "outputId": "04f4ca90-2b8b-467d-cd1f-6188afd2cb12"
      },
      "execution_count": 31,
      "outputs": [
        {
          "output_type": "execute_result",
          "data": {
            "text/plain": [
              "tensor([[0.8140],\n",
              "        [0.8255],\n",
              "        [0.8371],\n",
              "        [0.8487],\n",
              "        [0.8603],\n",
              "        [0.8718],\n",
              "        [0.8834],\n",
              "        [0.8950],\n",
              "        [0.9066],\n",
              "        [0.9181]])"
            ]
          },
          "metadata": {},
          "execution_count": 31
        }
      ]
    },
    {
      "cell_type": "code",
      "source": [
        "y_preds == loaded_model_preds"
      ],
      "metadata": {
        "colab": {
          "base_uri": "https://localhost:8080/"
        },
        "id": "PxaX9TWUcqZt",
        "outputId": "a9677b58-27ae-41d2-b623-8b6f8c1d7248"
      },
      "execution_count": 32,
      "outputs": [
        {
          "output_type": "execute_result",
          "data": {
            "text/plain": [
              "tensor([[True],\n",
              "        [True],\n",
              "        [True],\n",
              "        [True],\n",
              "        [True],\n",
              "        [True],\n",
              "        [True],\n",
              "        [True],\n",
              "        [True],\n",
              "        [True]])"
            ]
          },
          "metadata": {},
          "execution_count": 32
        }
      ]
    },
    {
      "cell_type": "markdown",
      "source": [
        "## 6.  Putting it all together\n",
        "\n",
        "Let's go back through the steps above and see it all in one place."
      ],
      "metadata": {
        "id": "hn-xaAKb3o4o"
      }
    },
    {
      "cell_type": "code",
      "source": [
        "# Import PyTorch and matplotlib\n",
        "import torch\n",
        "from torch import nn\n",
        "import matplotlib.pyplot as plt"
      ],
      "metadata": {
        "id": "BqxtuP2O3oyK"
      },
      "execution_count": 33,
      "outputs": []
    },
    {
      "cell_type": "markdown",
      "source": [
        "Create device-agnostic code.  \n",
        "\n",
        "This means if we have access to a GPU our device will use it.  \n",
        "\n",
        "If no GPU is available the code will default to using the CPU/"
      ],
      "metadata": {
        "id": "Tx4Yh2cf3ot-"
      }
    },
    {
      "cell_type": "code",
      "source": [
        "# Setup device agnostic code\n",
        "device = \"cuda\" if torch.cuda.is_available() else \"cpu\"\n",
        "print(f\"Using device: {device}\")"
      ],
      "metadata": {
        "colab": {
          "base_uri": "https://localhost:8080/"
        },
        "id": "fSeXBBDQeEbQ",
        "outputId": "63d354c2-5e3e-424d-e0f8-c418e52b9949"
      },
      "execution_count": 35,
      "outputs": [
        {
          "output_type": "stream",
          "name": "stdout",
          "text": [
            "Using device: cuda\n"
          ]
        }
      ]
    },
    {
      "cell_type": "markdown",
      "source": [
        "### 6.1 Data"
      ],
      "metadata": {
        "id": "1RY8_GRceEYZ"
      }
    },
    {
      "cell_type": "code",
      "source": [
        "# Create some data using the linear regression formula of y = weight * X + bias\n",
        "weight = 0.7\n",
        "bias = 0.3\n",
        "\n",
        "# Create range values\n",
        "start = 0\n",
        "end = 1\n",
        "step = 0.02\n",
        "\n",
        "# Create X and y (features and label)\n",
        "X = torch.arange(start, end, step).unsqueeze(dim=1) #without unsqueeze, errors will pop up\n",
        "y = weight * X + bias\n",
        "X[:10], y[:10]"
      ],
      "metadata": {
        "colab": {
          "base_uri": "https://localhost:8080/"
        },
        "id": "1EBOwka3eEVq",
        "outputId": "d40d6086-d758-48b8-90c1-0fbeabd43e52"
      },
      "execution_count": 47,
      "outputs": [
        {
          "output_type": "execute_result",
          "data": {
            "text/plain": [
              "(tensor([[0.0000],\n",
              "         [0.0200],\n",
              "         [0.0400],\n",
              "         [0.0600],\n",
              "         [0.0800],\n",
              "         [0.1000],\n",
              "         [0.1200],\n",
              "         [0.1400],\n",
              "         [0.1600],\n",
              "         [0.1800]]),\n",
              " tensor([[0.3000],\n",
              "         [0.3140],\n",
              "         [0.3280],\n",
              "         [0.3420],\n",
              "         [0.3560],\n",
              "         [0.3700],\n",
              "         [0.3840],\n",
              "         [0.3980],\n",
              "         [0.4120],\n",
              "         [0.4260]]))"
            ]
          },
          "metadata": {},
          "execution_count": 47
        }
      ]
    },
    {
      "cell_type": "code",
      "source": [
        "# Split data\n",
        "train_split = int(0.8 * len(X))\n",
        "X_train, y_train = X[:train_split], y[:train_split]\n",
        "X_test, y_test = X[train_split:], y[train_split:]\n",
        "len(X_train), len(y_train), len(X_test), len(y_test)"
      ],
      "metadata": {
        "colab": {
          "base_uri": "https://localhost:8080/"
        },
        "id": "pW3K3Uh9eESz",
        "outputId": "518a1787-24f4-4a71-f9ae-0fc20e3d88c2"
      },
      "execution_count": 48,
      "outputs": [
        {
          "output_type": "execute_result",
          "data": {
            "text/plain": [
              "(40, 40, 10, 10)"
            ]
          },
          "metadata": {},
          "execution_count": 48
        }
      ]
    },
    {
      "cell_type": "code",
      "source": [
        "# Plot the data\n",
        "# Note: if you don't have the plot_predictions() function loaded, this will error\n",
        "plot_predictions(X_train, y_train, X_test, y_test)"
      ],
      "metadata": {
        "colab": {
          "base_uri": "https://localhost:8080/",
          "height": 538
        },
        "id": "hsoOmU28eEPp",
        "outputId": "a90c383a-1bee-41ab-82b9-445de127334f"
      },
      "execution_count": 49,
      "outputs": [
        {
          "output_type": "display_data",
          "data": {
            "text/plain": [
              "<Figure size 1000x700 with 1 Axes>"
            ],
            "image/png": "[encoded data removed]"
          },
          "metadata": {}
        }
      ]
    },
    {
      "cell_type": "markdown",
      "source": [
        "## 6.2 Building a PyTorch Linear model"
      ],
      "metadata": {
        "id": "aDksQ8uFeEFh"
      }
    },
    {
      "cell_type": "code",
      "source": [],
      "metadata": {
        "id": "UQ99O3BvcqST"
      },
      "execution_count": 34,
      "outputs": []
    },
    {
      "cell_type": "code",
      "source": [],
      "metadata": {
        "id": "3LwC9VxA7-R9"
      },
      "execution_count": null,
      "outputs": []
    },
    {
      "cell_type": "code",
      "source": [],
      "metadata": {
        "id": "XaBjn4YQ7-PI"
      },
      "execution_count": null,
      "outputs": []
    },
    {
      "cell_type": "code",
      "source": [],
      "metadata": {
        "id": "jN0cHFdM7-MQ"
      },
      "execution_count": null,
      "outputs": []
    },
    {
      "cell_type": "code",
      "source": [],
      "metadata": {
        "id": "k7pUunej7-Jh"
      },
      "execution_count": null,
      "outputs": []
    },
    {
      "cell_type": "code",
      "source": [],
      "metadata": {
        "id": "hnj3vfRs7-HD"
      },
      "execution_count": null,
      "outputs": []
    },
    {
      "cell_type": "code",
      "source": [],
      "metadata": {
        "id": "A4TLla3k7-EU"
      },
      "execution_count": null,
      "outputs": []
    },
    {
      "cell_type": "code",
      "source": [],
      "metadata": {
        "id": "RZMUoncK7-BR"
      },
      "execution_count": null,
      "outputs": []
    },
    {
      "cell_type": "code",
      "source": [],
      "metadata": {
        "id": "7A6Bbog_79-e"
      },
      "execution_count": null,
      "outputs": []
    },
    {
      "cell_type": "code",
      "source": [],
      "metadata": {
        "id": "Ao8w9T6D798I"
      },
      "execution_count": null,
      "outputs": []
    },
    {
      "cell_type": "code",
      "source": [],
      "metadata": {
        "id": "RK3Wd0s4794_"
      },
      "execution_count": null,
      "outputs": []
    },
    {
      "cell_type": "code",
      "source": [],
      "metadata": {
        "id": "dzfcwnPq792R"
      },
      "execution_count": null,
      "outputs": []
    },
    {
      "cell_type": "code",
      "source": [],
      "metadata": {
        "id": "_sZZKogf79zj"
      },
      "execution_count": null,
      "outputs": []
    },
    {
      "cell_type": "code",
      "source": [],
      "metadata": {
        "id": "EEvhMsko79wq"
      },
      "execution_count": null,
      "outputs": []
    },
    {
      "cell_type": "code",
      "source": [],
      "metadata": {
        "id": "Ff4hna8d79t0"
      },
      "execution_count": null,
      "outputs": []
    }
  ]
}